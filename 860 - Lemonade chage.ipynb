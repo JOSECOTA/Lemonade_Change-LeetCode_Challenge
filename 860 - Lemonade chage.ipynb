{
 "cells": [
  {
   "cell_type": "code",
   "execution_count": 1,
   "id": "9369db51",
   "metadata": {},
   "outputs": [],
   "source": [
    "def lemonadeChange(bills):\n",
    "        five = ten = 0\n",
    "        for bill in bills:\n",
    "            if bill == 5:\n",
    "                five += 1\n",
    "            elif bill == 10:\n",
    "                if not five: return False\n",
    "                five -= 1\n",
    "                ten += 1\n",
    "            else:\n",
    "                if ten and five:\n",
    "                    ten -= 1\n",
    "                    five -= 1\n",
    "                elif five >= 3:\n",
    "                    five -= 3\n",
    "                else:\n",
    "                    return False\n",
    "        return True\n"
   ]
  },
  {
   "cell_type": "code",
   "execution_count": null,
   "id": "788e0960",
   "metadata": {},
   "outputs": [],
   "source": []
  }
 ],
 "metadata": {
  "kernelspec": {
   "display_name": "Python 3 (ipykernel)",
   "language": "python",
   "name": "python3"
  },
  "language_info": {
   "codemirror_mode": {
    "name": "ipython",
    "version": 3
   },
   "file_extension": ".py",
   "mimetype": "text/x-python",
   "name": "python",
   "nbconvert_exporter": "python",
   "pygments_lexer": "ipython3",
   "version": "3.9.7"
  }
 },
 "nbformat": 4,
 "nbformat_minor": 5
}
